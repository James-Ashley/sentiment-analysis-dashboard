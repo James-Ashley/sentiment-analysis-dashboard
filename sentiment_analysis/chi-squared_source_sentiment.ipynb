{
 "cells": [
  {
   "cell_type": "code",
   "execution_count": 1,
   "id": "armed-sixth",
   "metadata": {},
   "outputs": [],
   "source": [
    "# Dependencies\n",
    "import pandas as pd\n",
    "from scipy.stats import chi2_contingency "
   ]
  },
  {
   "cell_type": "code",
   "execution_count": 7,
   "id": "finite-richardson",
   "metadata": {},
   "outputs": [
    {
     "data": {
      "text/html": [
       "<div>\n",
       "<style scoped>\n",
       "    .dataframe tbody tr th:only-of-type {\n",
       "        vertical-align: middle;\n",
       "    }\n",
       "\n",
       "    .dataframe tbody tr th {\n",
       "        vertical-align: top;\n",
       "    }\n",
       "\n",
       "    .dataframe thead th {\n",
       "        text-align: right;\n",
       "    }\n",
       "</style>\n",
       "<table border=\"1\" class=\"dataframe\">\n",
       "  <thead>\n",
       "    <tr style=\"text-align: right;\">\n",
       "      <th></th>\n",
       "      <th>source</th>\n",
       "      <th>sentiment_category</th>\n",
       "      <th>url</th>\n",
       "    </tr>\n",
       "  </thead>\n",
       "  <tbody>\n",
       "    <tr>\n",
       "      <th>0</th>\n",
       "      <td>NBC News</td>\n",
       "      <td>negative</td>\n",
       "      <td>https://www.nbcnews.com/think/opinion/biden-s-...</td>\n",
       "    </tr>\n",
       "    <tr>\n",
       "      <th>1</th>\n",
       "      <td>NBC News</td>\n",
       "      <td>neutral</td>\n",
       "      <td>https://www.nbcnews.com/news/latino/first-lati...</td>\n",
       "    </tr>\n",
       "    <tr>\n",
       "      <th>2</th>\n",
       "      <td>NBC News</td>\n",
       "      <td>neutral</td>\n",
       "      <td>https://www.nbcnews.com/news/asian-america/ton...</td>\n",
       "    </tr>\n",
       "    <tr>\n",
       "      <th>3</th>\n",
       "      <td>NBC News</td>\n",
       "      <td>neutral</td>\n",
       "      <td>https://www.nbcnews.com/politics/immigration/s...</td>\n",
       "    </tr>\n",
       "    <tr>\n",
       "      <th>4</th>\n",
       "      <td>NBC News</td>\n",
       "      <td>negative</td>\n",
       "      <td>https://www.nbcnews.com/politics/politics-news...</td>\n",
       "    </tr>\n",
       "  </tbody>\n",
       "</table>\n",
       "</div>"
      ],
      "text/plain": [
       "     source sentiment_category  \\\n",
       "0  NBC News           negative   \n",
       "1  NBC News            neutral   \n",
       "2  NBC News            neutral   \n",
       "3  NBC News            neutral   \n",
       "4  NBC News           negative   \n",
       "\n",
       "                                                 url  \n",
       "0  https://www.nbcnews.com/think/opinion/biden-s-...  \n",
       "1  https://www.nbcnews.com/news/latino/first-lati...  \n",
       "2  https://www.nbcnews.com/news/asian-america/ton...  \n",
       "3  https://www.nbcnews.com/politics/immigration/s...  \n",
       "4  https://www.nbcnews.com/politics/politics-news...  "
      ]
     },
     "execution_count": 7,
     "metadata": {},
     "output_type": "execute_result"
    }
   ],
   "source": [
    "# Import in data\n",
    "df = pd.read_json('../sentiment_classification/updated_mongo_dataset.json')\n",
    "df = df[['source', 'sentiment_category', 'url']]\n",
    "df.head()"
   ]
  },
  {
   "cell_type": "code",
   "execution_count": 14,
   "id": "pacific-thompson",
   "metadata": {},
   "outputs": [
    {
     "data": {
      "text/html": [
       "<div>\n",
       "<style scoped>\n",
       "    .dataframe tbody tr th:only-of-type {\n",
       "        vertical-align: middle;\n",
       "    }\n",
       "\n",
       "    .dataframe tbody tr th {\n",
       "        vertical-align: top;\n",
       "    }\n",
       "\n",
       "    .dataframe thead th {\n",
       "        text-align: right;\n",
       "    }\n",
       "</style>\n",
       "<table border=\"1\" class=\"dataframe\">\n",
       "  <thead>\n",
       "    <tr style=\"text-align: right;\">\n",
       "      <th></th>\n",
       "      <th>sentiment_category</th>\n",
       "      <th>source</th>\n",
       "      <th>sum</th>\n",
       "    </tr>\n",
       "  </thead>\n",
       "  <tbody>\n",
       "    <tr>\n",
       "      <th>0</th>\n",
       "      <td>negative</td>\n",
       "      <td>Al Jazeera English</td>\n",
       "      <td>211</td>\n",
       "    </tr>\n",
       "    <tr>\n",
       "      <th>1</th>\n",
       "      <td>negative</td>\n",
       "      <td>Breitbart News</td>\n",
       "      <td>500</td>\n",
       "    </tr>\n",
       "    <tr>\n",
       "      <th>2</th>\n",
       "      <td>negative</td>\n",
       "      <td>CBS News</td>\n",
       "      <td>60</td>\n",
       "    </tr>\n",
       "    <tr>\n",
       "      <th>3</th>\n",
       "      <td>negative</td>\n",
       "      <td>CNN</td>\n",
       "      <td>163</td>\n",
       "    </tr>\n",
       "    <tr>\n",
       "      <th>4</th>\n",
       "      <td>negative</td>\n",
       "      <td>Fox News</td>\n",
       "      <td>259</td>\n",
       "    </tr>\n",
       "  </tbody>\n",
       "</table>\n",
       "</div>"
      ],
      "text/plain": [
       "  sentiment_category              source  sum\n",
       "0           negative  Al Jazeera English  211\n",
       "1           negative      Breitbart News  500\n",
       "2           negative            CBS News   60\n",
       "3           negative                 CNN  163\n",
       "4           negative            Fox News  259"
      ]
     },
     "execution_count": 14,
     "metadata": {},
     "output_type": "execute_result"
    }
   ],
   "source": [
    "# Calculate count of each category (count of sentiment by source)\n",
    "df_count = df.groupby(['sentiment_category', 'source']).count().reset_index().rename(columns={'url': 'sum'})\n",
    "df_count.head()\n",
    "# for each sentiment, count of each sentiment\n",
    "# negative [fox news count, wapo count]\n",
    "# neutral [fox news count, wapo count]\n",
    "# positive [fox news count, wapo count]"
   ]
  },
  {
   "cell_type": "code",
   "execution_count": null,
   "id": "backed-probability",
   "metadata": {},
   "outputs": [],
   "source": [
    "# defining the table \n",
    "data = [[207, 282, 241], [234, 242, 232]] \n",
    "stat, p, dof, expected = chi2_contingency(data) \n",
    "  \n",
    "# interpret p-value \n",
    "alpha = 0.05\n",
    "print(\"p value is \" + str(p)) \n",
    "if p <= alpha: \n",
    "    # The variables DO have a significant relationship\n",
    "    print('Dependent (reject H0)') \n",
    "else: \n",
    "    # The variables do not have a significant relationship\n",
    "    print('Independent (H0 holds true)') "
   ]
  }
 ],
 "metadata": {
  "kernelspec": {
   "display_name": "Python [conda env:PythonData] *",
   "language": "python",
   "name": "conda-env-PythonData-py"
  },
  "language_info": {
   "codemirror_mode": {
    "name": "ipython",
    "version": 3
   },
   "file_extension": ".py",
   "mimetype": "text/x-python",
   "name": "python",
   "nbconvert_exporter": "python",
   "pygments_lexer": "ipython3",
   "version": "3.6.10"
  }
 },
 "nbformat": 4,
 "nbformat_minor": 5
}
