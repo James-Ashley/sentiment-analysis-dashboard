{
 "cells": [
  {
   "cell_type": "code",
   "execution_count": 6,
   "id": "recognized-confidentiality",
   "metadata": {},
   "outputs": [],
   "source": [
    "# Dependencies\n",
    "import pandas as pd\n",
    "import numpy as np\n",
    "from textblob.classifiers import NaiveBayesClassifier"
   ]
  },
  {
   "cell_type": "code",
   "execution_count": 5,
   "id": "qualified-beatles",
   "metadata": {},
   "outputs": [
    {
     "data": {
      "text/html": [
       "<div>\n",
       "<style scoped>\n",
       "    .dataframe tbody tr th:only-of-type {\n",
       "        vertical-align: middle;\n",
       "    }\n",
       "\n",
       "    .dataframe tbody tr th {\n",
       "        vertical-align: top;\n",
       "    }\n",
       "\n",
       "    .dataframe thead th {\n",
       "        text-align: right;\n",
       "    }\n",
       "</style>\n",
       "<table border=\"1\" class=\"dataframe\">\n",
       "  <thead>\n",
       "    <tr style=\"text-align: right;\">\n",
       "      <th></th>\n",
       "      <th>text</th>\n",
       "      <th>label</th>\n",
       "    </tr>\n",
       "  </thead>\n",
       "  <tbody>\n",
       "    <tr>\n",
       "      <th>0</th>\n",
       "      <td>I could be deported because my parents came he...</td>\n",
       "      <td>-1</td>\n",
       "    </tr>\n",
       "    <tr>\n",
       "      <th>1</th>\n",
       "      <td>First Latino tapped to head DHS signals shift ...</td>\n",
       "      <td>0</td>\n",
       "    </tr>\n",
       "    <tr>\n",
       "      <th>2</th>\n",
       "      <td>Tony Pham, interim director of Immigration and...</td>\n",
       "      <td>0</td>\n",
       "    </tr>\n",
       "    <tr>\n",
       "      <th>3</th>\n",
       "      <td>More than two-thirds of undocumented immigrant...</td>\n",
       "      <td>0</td>\n",
       "    </tr>\n",
       "    <tr>\n",
       "      <th>4</th>\n",
       "      <td>Biden to meet with struggling workers, small-b...</td>\n",
       "      <td>-1</td>\n",
       "    </tr>\n",
       "  </tbody>\n",
       "</table>\n",
       "</div>"
      ],
      "text/plain": [
       "                                                text  label\n",
       "0  I could be deported because my parents came he...     -1\n",
       "1  First Latino tapped to head DHS signals shift ...      0\n",
       "2  Tony Pham, interim director of Immigration and...      0\n",
       "3  More than two-thirds of undocumented immigrant...      0\n",
       "4  Biden to meet with struggling workers, small-b...     -1"
      ]
     },
     "execution_count": 5,
     "metadata": {},
     "output_type": "execute_result"
    }
   ],
   "source": [
    "df = pd.read_json('preprocessed_headlines.json')\n",
    "df = df[['title', 'sentiment_human']].rename(columns={'title':'text', 'sentiment_human':'label'})\n",
    "df.head(5)"
   ]
  },
  {
   "cell_type": "code",
   "execution_count": 8,
   "id": "complex-george",
   "metadata": {},
   "outputs": [],
   "source": [
    "# Stratified split \n",
    "# Reference: https://stackoverflow.com/questions/50781562/stratified-splitting-of-pandas-dataframe-in-training-validation-and-test-set\n",
    "fractions = np.array([0.8, 0.2])\n",
    "train, test = np.array_split(df, (fractions[:-1].cumsum()*len(df)).astype(int))"
   ]
  },
  {
   "cell_type": "code",
   "execution_count": 13,
   "id": "wooden-illinois",
   "metadata": {},
   "outputs": [],
   "source": [
    "# Save these sets to json files\n",
    "train.to_json('textblob_train.json', orient='records')\n",
    "test.to_json('textblob_test.json', orient='records')"
   ]
  },
  {
   "cell_type": "code",
   "execution_count": 14,
   "id": "unable-strand",
   "metadata": {},
   "outputs": [],
   "source": [
    "# Train model\n",
    "with open('textblob_train.json') as fp:\n",
    "    cl = NaiveBayesClassifier(fp, format='json')"
   ]
  },
  {
   "cell_type": "code",
   "execution_count": 15,
   "id": "taken-salon",
   "metadata": {},
   "outputs": [
    {
     "name": "stdout",
     "output_type": "stream",
     "text": [
      "The accuracy of the trained TextBlob sentiment classifier is 0.5589660743134087\n"
     ]
    }
   ],
   "source": [
    "with open('textblob_test.json') as fp:\n",
    "    acc = cl.accuracy(fp, format='json')\n",
    "\n",
    "print(f'The accuracy of the trained TextBlob sentiment classifier is {acc}')"
   ]
  },
  {
   "cell_type": "code",
   "execution_count": null,
   "id": "western-guide",
   "metadata": {},
   "outputs": [],
   "source": []
  }
 ],
 "metadata": {
  "kernelspec": {
   "display_name": "Python [conda env:PythonData] *",
   "language": "python",
   "name": "conda-env-PythonData-py"
  },
  "language_info": {
   "codemirror_mode": {
    "name": "ipython",
    "version": 3
   },
   "file_extension": ".py",
   "mimetype": "text/x-python",
   "name": "python",
   "nbconvert_exporter": "python",
   "pygments_lexer": "ipython3",
   "version": "3.6.10"
  }
 },
 "nbformat": 4,
 "nbformat_minor": 5
}
